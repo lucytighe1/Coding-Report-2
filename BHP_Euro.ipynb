{
 "cells": [
  {
   "cell_type": "markdown",
   "id": "ce62ba33",
   "metadata": {},
   "source": [
    "# European Call Option BHP"
   ]
  },
  {
   "cell_type": "code",
   "execution_count": 3,
   "id": "3b6d76eb",
   "metadata": {},
   "outputs": [],
   "source": [
    "import yfinance as yf\n",
    "import numpy as np\n",
    "import matplotlib.pyplot as plt\n",
    "import networkx as nx\n",
    "import pandas as pd\n",
    "from datetime import datetime"
   ]
  },
  {
   "cell_type": "code",
   "execution_count": null,
   "id": "42be92da",
   "metadata": {},
   "outputs": [
    {
     "name": "stderr",
     "output_type": "stream",
     "text": [
      "/tmp/ipykernel_14744/2037434503.py:9: FutureWarning: Calling float on a single element Series is deprecated and will raise a TypeError in the future. Use float(ser.iloc[0]) instead\n",
      "  S0 = float(data[\"Close\"].iloc[0])  # Ensure scalar\n"
     ]
    },
    {
     "name": "stdout",
     "output_type": "stream",
     "text": [
      "Spot = 39.72, Volatility = 20.24%\n"
     ]
    }
   ],
   "source": [
    "# Pulling close price as at 16 May 2025 from yfinance\n",
    "ticker = \"BHP.AX\"\n",
    "valuation_date = datetime(2025, 5, 16)\n",
    "expiry_date = datetime(2027, 9, 15)\n",
    "target_date_str = valuation_date.strftime(\"%Y-%m-%d\")\n",
    "data = yf.download(ticker, start=target_date_str, end=\"2027-09-15\", progress=False)\n",
    "if data.empty:\n",
    "    raise ValueError(f\"No data available for {ticker} on {target_date_str}\")\n",
    "S0 = float(data[\"Close\"].iloc[0])  # Ensure scalar\n",
    "\n",
    "# Calculate time to maturity dynamically \n",
    "T = (expiry_date - valuation_date).days / 365.25  # Year fraction\n",
    "\n",
    "\n",
    "# Pull volatility (sigma) from cell S15 in sheet \"Worksheet\"\n",
    "vol_file = \"Rates_Volatilities.xlsx\"\n",
    "from openpyxl import load_workbook\n",
    "\n",
    "# Open the workbook and access the value from S15\n",
    "wb = load_workbook(filename=vol_file, data_only=True)\n",
    "ws = wb[\"BHP\"]\n",
    "sigma = ws[\"S15\"].value  # This returns the evaluated result (not the formula)\n",
    "\n",
    "if sigma is None:\n",
    "    raise ValueError(\"Volatility (sigma) in cell S15 returned None — please check if Excel formula has been calculated and saved.\")\n",
    "\n",
    "wb.close()\n",
    "print(f\"Spot = {S0:.2f}, Volatility = {sigma:.2%}\")"
   ]
  },
  {
   "cell_type": "code",
   "execution_count": 8,
   "id": "7146fa1b",
   "metadata": {},
   "outputs": [
    {
     "name": "stdout",
     "output_type": "stream",
     "text": [
      "Strike price K calculated as 98% of S0: 38.925601196289065\n",
      "Risk-Free Rate (decimal): 0.040691012880562066\n",
      "Call Option Price: 4.32029473813764\n"
     ]
    }
   ],
   "source": [
    "# Calculate K \n",
    "K = 0.98*S0\n",
    "print(f\"Strike price K calculated as 98% of S0: {K}\")\n",
    "\n",
    "\n",
    "#Calculate Risk-free, the maturity of this option was 2.338 years so the \n",
    "#3yr risk-free rate was discounted accordingly to align with the maturity of this option\n",
    "wb = load_workbook(filename=vol_file, data_only=True)\n",
    "ws = wb[\"Risk Free\"]\n",
    "r = (ws[\"F19\"].value)/100  # This returns the evaluated result (not the formula)\n",
    "\n",
    "if r is None:\n",
    "    raise ValueError(\"Risk-Free in cell F19 returned None — please check if Excel formula has been calculated and saved.\")\n",
    "\n",
    "wb.close()\n",
    "print(f\"Risk-Free Rate (decimal): {r}\")\n",
    "\n",
    "from instrument_classes import EuropeanCall\n",
    "EC = EuropeanCall(S0, K, r, T, sigma)\n",
    "price = EC.price()\n",
    "print(f\"Call Option Price: {price}\")"
   ]
  }
 ],
 "metadata": {
  "kernelspec": {
   "display_name": "Python 3",
   "language": "python",
   "name": "python3"
  },
  "language_info": {
   "codemirror_mode": {
    "name": "ipython",
    "version": 3
   },
   "file_extension": ".py",
   "mimetype": "text/x-python",
   "name": "python",
   "nbconvert_exporter": "python",
   "pygments_lexer": "ipython3",
   "version": "3.12.1"
  }
 },
 "nbformat": 4,
 "nbformat_minor": 5
}
